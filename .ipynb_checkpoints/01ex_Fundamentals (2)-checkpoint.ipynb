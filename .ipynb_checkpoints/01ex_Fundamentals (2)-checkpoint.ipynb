{
 "cells": [
  {
   "cell_type": "markdown",
   "metadata": {},
   "source": [
    "0\\. Implement a function (whatever you want) and save it to a file (e.g. `function.py`). Import that file and use that function in this notebook.\n",
    "\n"
   ]
  },
  {
   "cell_type": "code",
   "execution_count": null,
   "metadata": {},
   "outputs": [],
   "source": []
  },
  {
   "cell_type": "markdown",
   "metadata": {},
   "source": [
    "1\\. Write the following as a list comprehension"
   ]
  },
  {
   "cell_type": "code",
   "execution_count": 8,
   "metadata": {},
   "outputs": [
    {
     "name": "stdout",
     "output_type": "stream",
     "text": [
      "[(0, 0), (0, 1), (0, 2), (0, 3), (1, 0), (1, 1), (1, 2), (1, 3), (2, 0), (2, 1), (2, 2), (2, 3)]\n",
      "[(0, 0), (0, 1), (0, 2), (0, 3), (1, 0), (1, 1), (1, 2), (1, 3), (2, 0), (2, 1), (2, 2), (2, 3)]\n",
      "[0, 4, 16]\n",
      "[0, 4, 16]\n"
     ]
    }
   ],
   "source": [
    "# 1\n",
    "ans = []\n",
    "for i in range(3):\n",
    "    for j in range(4):\n",
    "        ans.append((i, j))\n",
    "print (ans)\n",
    "\n",
    "comprehans= [(i,j) for i in range(3) for j in range(4)]\n",
    "print(comprehans)\n",
    "\n",
    "# 2\n",
    "ans = map(lambda x: x*x, filter(lambda x: x%2 == 0, range(5)))\n",
    "print (list(ans))\n",
    "\n",
    "comprehans= [x**2 for x in range(5) if x%2==0]\n",
    "print(comprehans)"
   ]
  },
  {
   "cell_type": "markdown",
   "metadata": {},
   "source": [
    "2\\. Convert the following function into a pure function with no global variables or side effects"
   ]
  },
  {
   "cell_type": "code",
   "execution_count": 12,
   "metadata": {},
   "outputs": [
    {
     "name": "stdout",
     "output_type": "stream",
     "text": [
      "[1, 2, 3, 0, 1, 2, 3, 4]\n",
      "[1, 2, 3, 0, 1, 2, 3, 4]\n",
      "[1, 2, 3, 0, 1, 2, 3, 4]\n",
      "[1, 2, 3]\n"
     ]
    }
   ],
   "source": [
    "x = 5\n",
    "def f(alist):\n",
    "    for i in range(x):\n",
    "         alist.append(i)\n",
    "    return alist\n",
    "\n",
    "list = [1,2,3]\n",
    "ans = f(list)\n",
    "print (ans)\n",
    "print (list) # list has been changed! (they are mutable objects)\n",
    "\n",
    "def puref(alist,x):\n",
    "    newlist=[i for i in alist]\n",
    "    for n in range(x):\n",
    "        newlist.append(n)\n",
    "    return(newlist)    \n",
    "\n",
    "list = [1,2,3]    \n",
    "newans= puref(list,5)\n",
    "print(newans)\n",
    "print(list) # here list is not changed!"
   ]
  },
  {
   "cell_type": "markdown",
   "metadata": {},
   "source": [
    "3\\. Write a `decorator` hello that makes every wrapped function print “Hello!”, i.e. something like:\n",
    "\n",
    "```python\n",
    "@hello\n",
    "def square(x):\n",
    "    return x*x\n",
    "```\n",
    "\n"
   ]
  },
  {
   "cell_type": "code",
   "execution_count": 202,
   "metadata": {},
   "outputs": [
    {
     "name": "stdout",
     "output_type": "stream",
     "text": [
      "16\n",
      "Hello!\n"
     ]
    }
   ],
   "source": [
    "def hello(func):    ##decorator\n",
    "    def wrapper(x):\n",
    "        func(x)\n",
    "        print(\"Hello!\")\n",
    "    return wrapper\n",
    "\n",
    "@hello          ##decorated square function\n",
    "def square(x):\n",
    "    print(x*x)\n",
    "square(4)\n",
    "\n",
    "\n",
    "\n"
   ]
  },
  {
   "cell_type": "markdown",
   "metadata": {},
   "source": [
    "4\\. Write the factorial function so that it a) does and b) does not use recursion."
   ]
  },
  {
   "cell_type": "code",
   "execution_count": 214,
   "metadata": {},
   "outputs": [
    {
     "name": "stdout",
     "output_type": "stream",
     "text": [
      "error, integers only\n",
      "None\n",
      "24\n"
     ]
    }
   ],
   "source": [
    "#without recursion\n",
    "\n",
    "def factorial(n):\n",
    "    if n%1 != 0: \n",
    "        return(print(\"error, integers only\"))\n",
    "    elif n == 0:\n",
    "         return(1)\n",
    "    elif n%1==0: \n",
    "        fact=[1]\n",
    "        for j in range(1,n+1):\n",
    "            fact.append(fact[j-1]*j)\n",
    "    return(fact[j]) \n",
    "\n",
    "#with recursion     \n",
    "    \n",
    "def factorial_recursive(n):\n",
    "    if n==0:\n",
    "        return 1\n",
    "    elif n%1 != 0: \n",
    "        return(print(\"Error,not a natural number\"))\n",
    "    else: \n",
    "        return(n*factorial_recursive(n-1))\n",
    "    \n",
    "    \n",
    "    \n",
    "print(factorial(1.2))  \n",
    "print(factorial_recursive(4)) "
   ]
  },
  {
   "cell_type": "markdown",
   "metadata": {},
   "source": [
    "5\\. Use HOFs (zip in particular) to compute the weight of a circle, a disk and a sphere, assuming different radii and different densities:\n",
    "\n",
    "```python\n",
    "densities = {\"Al\":[0.5,1,2],\"Fe\":[3,4,5],\"Pb\": [15,20,30]}\n",
    "radii = [1,2,3]\n",
    "```\n",
    "\n",
    "where the entries of the dictionary's values are the linear, superficial and volumetric densities of the materials respectively.\n",
    "\n",
    "In particular define a list of three lambda functions using a comprehension that computes the circumference, the area and the volume for a given radius.\n"
   ]
  },
  {
   "cell_type": "code",
   "execution_count": 162,
   "metadata": {},
   "outputs": [
    {
     "name": "stdout",
     "output_type": "stream",
     "text": [
      "The weights of the circles with radius 1 are: \n",
      "Al: 3.141592653589793 Fe: 18.84955592153876 Pb: 94.24777960769379\n",
      "The weights of the circles with radius 2 are: \n",
      "Al: 6.283185307179586 Fe: 37.69911184307752 Pb: 188.49555921538757\n",
      "The weights of the circles with radius 3 are: \n",
      "Al: 9.42477796076938 Fe: 56.548667764616276 Pb: 282.7433388230814\n",
      "The weights of the disks with radius 1 are: \n",
      "Al: 3.141592653589793 Fe: 12.566370614359172 Pb: 62.83185307179586\n",
      "The weights of the disks with radius 2 are: \n",
      "Al: 12.566370614359172 Fe: 50.26548245743669 Pb: 251.32741228718345\n",
      "The weights of the disks with radius 3 are: \n",
      "Al: 28.274333882308138 Fe: 113.09733552923255 Pb: 565.4866776461628\n",
      "The weights of the spheres with radius 1 are: \n",
      "Al: 8.377580409572781 Fe: 20.94395102393195 Pb: 125.66370614359171\n",
      "The weights of the spheres with radius 2 are: \n",
      "Al: 67.02064327658225 Fe: 167.5516081914556 Pb: 1005.3096491487337\n",
      "The weights of the spheres with radius 3 are: \n",
      "Al: 226.1946710584651 Fe: 565.4866776461628 Pb: 3392.9200658769764\n"
     ]
    }
   ],
   "source": [
    "from math import pi\n",
    "\n",
    "densities = {\"Al\":[0.5,1,2],\"Fe\":[3,4,5],\"Pb\": [15,20,30]}\n",
    "radii = [1,2,3]\n",
    "\n",
    "funclist = [lambda r:2*pi*r,lambda r:pi*r**2,lambda r:4.0*pi*r**3/3.0]\n",
    "\n",
    "\n",
    "for Aldens,Fedens,Pbdens,func in zip(densities[\"Al\"],densities[\"Fe\"],densities[\"Pb\"],funclist): ##zip prende prima solo il primo elemento di ogni vettore densità (lineare) e la prima funzione (circonf), poi solo il secondo elemento di ciascuna densità (superf) e la seconda funzione (area) ecc \n",
    "    for radius in radii:\n",
    "          #print(Aldens,Fedens,Pbdens)\n",
    "          weight_func =[Aldens*func(radius), Fedens*func(radius), Pbdens*func(radius)]\n",
    "          if func == funclist[0]: \n",
    "                print(\"The weights of the circles with radius \"+ str(radius) +\" are: \")\n",
    "                print( \"Al: \"+ str(weight_func[0]) + \" Fe: \"+ str(weight_func[1]) + \" Pb: \"+ str(weight_func[2]))\n",
    "          elif func == funclist[1]: \n",
    "                print(\"The weights of the disks with radius \"+ str(radius) +\" are: \")\n",
    "                print( \"Al: \"+ str(weight_func[0]) + \" Fe: \"+ str(weight_func[1]) + \" Pb: \"+ str(weight_func[2])) \n",
    "          elif func == funclist[2]: \n",
    "                print(\"The weights of the spheres with radius \"+ str(radius) +\" are: \")\n",
    "                print( \"Al: \"+ str(weight_func[0]) + \" Fe: \"+ str(weight_func[1]) + \" Pb: \"+ str(weight_func[2]))    \n"
   ]
  },
  {
   "cell_type": "markdown",
   "metadata": {},
   "source": [
    "6\\. Edit the class defintion to add an instance attribute of is_hungry = True to the Dog class. Then add a method called eat() which changes the value of is_hungry to False when called. Figure out the best way to feed each dog and then output “My dogs are hungry.” if all are hungry or “My dogs are not hungry.” if all are not hungry. The final output should look like this:\n",
    "\n",
    "`I have 3 dogs. \n",
    "Tom is 6. \n",
    "Fletcher is 7. \n",
    "Larry is 9. \n",
    "And they're all mammals, of course. \n",
    "My dogs are not hungry.\n",
    "`\n",
    "\n",
    "```python\n",
    "# Parent class\n",
    "class Dog:\n",
    "\n",
    "    # Class attribute\n",
    "    species = 'mammal'\n",
    "\n",
    "    # Initializer / Instance attributes\n",
    "    def __init__(self, name, age):\n",
    "        self.name = name\n",
    "        self.age = age\n",
    "\n",
    "    # instance method\n",
    "    def description(self):\n",
    "        return \"{} is {} years old\".format(self.name, self.age)\n",
    "\n",
    "    # instance method\n",
    "    def speak(self, sound):\n",
    "        return \"{} says {}\".format(self.name, sound)\n",
    "\n",
    "# Child class (inherits from Dog class)\n",
    "class RussellTerrier(Dog):\n",
    "    def run(self, speed):\n",
    "        return \"{} runs {}\".format(self.name, speed)\n",
    "\n",
    "# Child class (inherits from Dog class)\n",
    "class Bulldog(Dog):\n",
    "    def run(self, speed):\n",
    "        return \"{} runs {}\".format(self.name, speed)\n",
    "```"
   ]
  },
  {
   "cell_type": "code",
   "execution_count": 193,
   "metadata": {},
   "outputs": [
    {
     "name": "stdout",
     "output_type": "stream",
     "text": [
      "I have 3 dogs.\n",
      "Tom is 6 years old\n",
      "Fletcher is 7 years old\n",
      "Larry is 9 years old\n",
      "And they are all mammals of course.\n",
      "My dogs are not hungry.\n"
     ]
    }
   ],
   "source": [
    "# Parent class\n",
    "class Dog:\n",
    "\n",
    "    # Class attribute\n",
    "    species = 'mammal'\n",
    "\n",
    "    # Initializer / Instance attributes\n",
    "    def __init__(self, name, age, is_hungry):\n",
    "        self.name = name\n",
    "        self.age = age\n",
    "        self.is_hungry = is_hungry\n",
    "    # instance method\n",
    "    def description(self):\n",
    "        return \"{} is {} years old\".format(self.name, self.age)\n",
    "\n",
    "    # instance method\n",
    "    def speak(self, sound):\n",
    "        return \"{} says {}\".format(self.name, sound)\n",
    "    # instance method eat    \n",
    "    def eat(self):\n",
    "        self.is_hungry = False\n",
    "        return self.is_hungry\n",
    "\n",
    "Tom = Dog(\"Tom\",6,True)\n",
    "Fletcher = Dog(\"Fletcher\",7,True)\n",
    "Larry = Dog(\"Larry\",9,True)\n",
    "\n",
    "MyPets= {\"dogs\":[Tom,Fletcher,Larry]} \n",
    "\n",
    "for dog in MyPets[\"dogs\"]:\n",
    "    dog.eat()\n",
    "    \n",
    "def are_dogs_hungry(MyPets):    \n",
    "   if all(not dog.is_hungry for dog in MyPets[\"dogs\"]):\n",
    "     print(\"My dogs are not hungry.\")\n",
    "   else:            \n",
    "     print(\"My dogs are still hungry.\") \n",
    "    \n",
    "print(\"I have \"+ str(len(MyPets[\"dogs\"]))+ \" dogs.\" )\n",
    "print(Tom.description())\n",
    "print(Fletcher.description())\n",
    "print(Larry.description())\n",
    "print(\"And they are all \" + Dog.species + \"s of course.\")\n",
    "are_dogs_hungry(MyPets)\n",
    "\n",
    "####\n",
    "# Child class (inherits from Dog class)\n",
    "class RussellTerrier(Dog):\n",
    "    def run(self, speed):\n",
    "        return \"{} runs {}\".format(self.name, speed)\n",
    "\n",
    "# Child class (inherits from Dog class)\n",
    "class Bulldog(Dog):\n",
    "    def run(self, speed):\n",
    "        return \"{} runs {}\".format(self.name, speed)\n",
    "\n"
   ]
  },
  {
   "cell_type": "code",
   "execution_count": null,
   "metadata": {},
   "outputs": [],
   "source": []
  }
 ],
 "metadata": {
  "kernelspec": {
   "display_name": "Python 3",
   "language": "python",
   "name": "python3"
  },
  "language_info": {
   "codemirror_mode": {
    "name": "ipython",
    "version": 3
   },
   "file_extension": ".py",
   "mimetype": "text/x-python",
   "name": "python",
   "nbconvert_exporter": "python",
   "pygments_lexer": "ipython3",
   "version": "3.6.8"
  }
 },
 "nbformat": 4,
 "nbformat_minor": 4
}
