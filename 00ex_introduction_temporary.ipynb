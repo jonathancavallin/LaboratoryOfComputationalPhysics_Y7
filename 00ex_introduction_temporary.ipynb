{
 "cells": [
  {
   "cell_type": "markdown",
   "metadata": {},
   "source": [
    "1. The MickeyMouse problem\n",
    "\n",
    "a) Write a program that prints the numbers from 1 to 100. But for multiples of 3 print `Mickey` instead of the corresponding number and for the multiples of 5 print `Mouse`. For numbers which are multiples of both three and five print `MickeyMouse.\n",
    "\n",
    "b) Put the result in a tuple and substitute `Mickey` with `Donald` and `Mouse` with `Duck`"
   ]
  },
  {
   "cell_type": "code",
   "execution_count": 43,
   "metadata": {},
   "outputs": [
    {
     "name": "stdout",
     "output_type": "stream",
     "text": [
      "1\n",
      "2\n",
      "Mickey\n",
      "4\n",
      "Mouse\n",
      "Mickey\n",
      "7\n",
      "8\n",
      "Mickey\n",
      "Mouse\n",
      "11\n",
      "Mickey\n",
      "13\n",
      "14\n",
      "MickeyMouse\n",
      "16\n",
      "17\n",
      "Mickey\n",
      "19\n",
      "Mouse\n",
      "Mickey\n",
      "22\n",
      "23\n",
      "Mickey\n",
      "Mouse\n",
      "26\n",
      "Mickey\n",
      "28\n",
      "29\n",
      "MickeyMouse\n",
      "31\n",
      "32\n",
      "Mickey\n",
      "34\n",
      "Mouse\n",
      "Mickey\n",
      "37\n",
      "38\n",
      "Mickey\n",
      "Mouse\n",
      "41\n",
      "Mickey\n",
      "43\n",
      "44\n",
      "MickeyMouse\n",
      "46\n",
      "47\n",
      "Mickey\n",
      "49\n",
      "Mouse\n",
      "Mickey\n",
      "52\n",
      "53\n",
      "Mickey\n",
      "Mouse\n",
      "56\n",
      "Mickey\n",
      "58\n",
      "59\n",
      "MickeyMouse\n",
      "61\n",
      "62\n",
      "Mickey\n",
      "64\n",
      "Mouse\n",
      "Mickey\n",
      "67\n",
      "68\n",
      "Mickey\n",
      "Mouse\n",
      "71\n",
      "Mickey\n",
      "73\n",
      "74\n",
      "MickeyMouse\n",
      "76\n",
      "77\n",
      "Mickey\n",
      "79\n",
      "Mouse\n",
      "Mickey\n",
      "82\n",
      "83\n",
      "Mickey\n",
      "Mouse\n",
      "86\n",
      "Mickey\n",
      "88\n",
      "89\n",
      "MickeyMouse\n",
      "91\n",
      "92\n",
      "Mickey\n",
      "94\n",
      "Mouse\n",
      "Mickey\n",
      "97\n",
      "98\n",
      "Mickey\n",
      "Mouse\n",
      "with a tuple\n",
      "(1, 2, 'Donald', 4, 'Duck', 'Donald', 7, 8, 'Donald', 'Duck', 11, 'Donald', 13, 14, 'DonaldDuck', 16, 17, 'Donald', 19, 'Duck', 'Donald', 22, 23, 'Donald', 'Duck', 26, 'Donald', 28, 29, 'DonaldDuck', 31, 32, 'Donald', 34, 'Duck', 'Donald', 37, 38, 'Donald', 'Duck', 41, 'Donald', 43, 44, 'DonaldDuck', 46, 47, 'Donald', 49, 'Duck', 'Donald', 52, 53, 'Donald', 'Duck', 56, 'Donald', 58, 59, 'DonaldDuck', 61, 62, 'Donald', 64, 'Duck', 'Donald', 67, 68, 'Donald', 'Duck', 71, 'Donald', 73, 74, 'DonaldDuck', 76, 77, 'Donald', 79, 'Duck', 'Donald', 82, 83, 'Donald', 'Duck', 86, 'Donald', 88, 89, 'DonaldDuck', 91, 92, 'Donald', 94, 'Duck', 'Donald', 97, 98, 'Donald', 'Duck')\n"
     ]
    }
   ],
   "source": [
    "#Exercise 1a\n",
    "\n",
    "for i in range(1,101):\n",
    "    if i%3 != 0 and i%5 != 0 :\n",
    "       print(i) \n",
    "    elif i%3==0 and i%5 != 0 :\n",
    "       print(\"Mickey\")\n",
    "    elif i%5==0 and i%3 != 0 :\n",
    "       print(\"Mouse\")\n",
    "    else: \n",
    "       print(\"MickeyMouse\")\n",
    "        \n",
    "#Exercise 1b \n",
    "\n",
    "a=[]\n",
    "for i in range(1,101):\n",
    "    if i%3 != 0 and i%5 != 0 :\n",
    "       a.append(i) \n",
    "    elif i%3==0 and i%5 != 0 :\n",
    "       a.append(\"Mickey\")\n",
    "    elif i%5==0 and i%3 != 0 :\n",
    "       a.append(\"Mouse\")\n",
    "    else: \n",
    "       a.append(\"MickeyMouse\")\n",
    "b= tuple(a)\n",
    "for j, object in enumerate(b): #j,object enumerate outputs the index and its content \n",
    "     if object == \"Mickey\":\n",
    "        a[j] = \"Donald\"\n",
    "     elif object == \"Mouse\":\n",
    "        a[j] = \"Duck\"\n",
    "     elif object == \"MickeyMouse\":\n",
    "        a[j] = \"DonaldDuck\"\n",
    "newb = tuple(a)\n",
    "print(\"with a tuple\")\n",
    "print(newb)"
   ]
  },
  {
   "cell_type": "markdown",
   "metadata": {},
   "source": [
    "2\\. The swap function\n",
    "\n",
    "Write a function that swap the values of two input variables x and y (whatever the type). Try to do that also without a temporary variable"
   ]
  },
  {
   "cell_type": "code",
   "execution_count": 29,
   "metadata": {},
   "outputs": [
    {
     "name": "stdout",
     "output_type": "stream",
     "text": [
      "set the value of x iii\n",
      "set the value of y hhj\n"
     ]
    },
    {
     "name": "stdout",
     "output_type": "stream",
     "text": [
      "hhj iii\n",
      "hhj iii\n"
     ]
    }
   ],
   "source": [
    "#Exercise 2\n",
    "x = input(\"set the value of x\")\n",
    "y = input(\"set the value of y\")\n",
    "\n",
    "def swap(a,b):\n",
    "    newx = b\n",
    "    newy = a\n",
    "    print(newx,newy)\n",
    "swap(x,y)\n",
    "\n",
    "def swap(a,b):\n",
    "    a,b = b,a\n",
    "    print(a,b)\n",
    "swap(x,y)"
   ]
  },
  {
   "cell_type": "markdown",
   "metadata": {},
   "source": [
    "3\\. Computing the distance\n",
    "\n",
    "Write a function that calculates and returns the euclidean distance between two points *u* and *v*, where *u* and *v* are both 2-tuples *(x,y)*. For example, if *u=(3,0)* and *v=(0,4)*, the function should return 5"
   ]
  },
  {
   "cell_type": "code",
   "execution_count": 31,
   "metadata": {},
   "outputs": [
    {
     "name": "stdout",
     "output_type": "stream",
     "text": [
      "1.4142135623730951\n"
     ]
    }
   ],
   "source": [
    "#Exercise 3\n",
    "import numpy as np\n",
    "def euclidean_dist(a,b):\n",
    "   dist = np.sqrt((a[0]-b[0])**2 + (a[1]-b[1])**2)\n",
    "   return dist\n",
    "\n",
    "print(euclidean_dist((0,1),(1,0)))"
   ]
  },
  {
   "cell_type": "markdown",
   "metadata": {},
   "source": [
    "4\\. Counting letters\n",
    "\n",
    "Write a program to calculate the number of times each character occurs in a given string *s*. Ignore differneces in capitalization"
   ]
  },
  {
   "cell_type": "code",
   "execution_count": 66,
   "metadata": {},
   "outputs": [
    {
     "name": "stdout",
     "output_type": "stream",
     "text": [
      "There are 2 w in string s\n",
      "There are 17 r in string s\n",
      "There are 14 i in string s\n",
      "There are 19 t in string s\n",
      "There are 22 e in string s\n",
      "There are 41   in string s\n",
      "There are 7 a in string s\n",
      "There are 41   in string s\n",
      "There are 8 p in string s\n",
      "There are 17 r in string s\n",
      "There are 13 o in string s\n",
      "There are 1 g in string s\n",
      "There are 17 r in string s\n",
      "There are 7 a in string s\n",
      "There are 12 m in string s\n",
      "There are 41   in string s\n",
      "There are 19 t in string s\n",
      "There are 9 h in string s\n",
      "There are 7 a in string s\n",
      "There are 19 t in string s\n",
      "There are 41   in string s\n",
      "There are 8 p in string s\n",
      "There are 17 r in string s\n",
      "There are 14 i in string s\n",
      "There are 10 n in string s\n",
      "There are 19 t in string s\n",
      "There are 9 s in string s\n",
      "There are 41   in string s\n",
      "There are 19 t in string s\n",
      "There are 9 h in string s\n",
      "There are 22 e in string s\n",
      "There are 41   in string s\n",
      "There are 10 n in string s\n",
      "There are 9 u in string s\n",
      "There are 12 m in string s\n",
      "There are 5 b in string s\n",
      "There are 22 e in string s\n",
      "There are 17 r in string s\n",
      "There are 9 s in string s\n",
      "There are 41   in string s\n",
      "There are 10 f in string s\n",
      "There are 17 r in string s\n",
      "There are 13 o in string s\n",
      "There are 12 m in string s\n",
      "There are 41   in string s\n",
      "There are 2 1 in string s\n",
      "There are 41   in string s\n",
      "There are 19 t in string s\n",
      "There are 13 o in string s\n",
      "There are 41   in string s\n",
      "There are 2 1 in string s\n",
      "There are 2 0 in string s\n",
      "There are 2 0 in string s\n",
      "There are 2 . in string s\n",
      "There are 41   in string s\n",
      "There are 5 b in string s\n",
      "There are 9 u in string s\n",
      "There are 19 t in string s\n",
      "There are 41   in string s\n",
      "There are 10 f in string s\n",
      "There are 13 o in string s\n",
      "There are 17 r in string s\n",
      "There are 41   in string s\n",
      "There are 12 m in string s\n",
      "There are 9 u in string s\n",
      "There are 6 l in string s\n",
      "There are 19 t in string s\n",
      "There are 14 i in string s\n",
      "There are 8 p in string s\n",
      "There are 6 l in string s\n",
      "There are 22 e in string s\n",
      "There are 9 s in string s\n",
      "There are 41   in string s\n",
      "There are 13 o in string s\n",
      "There are 10 f in string s\n",
      "There are 41   in string s\n",
      "There are 19 t in string s\n",
      "There are 9 h in string s\n",
      "There are 17 r in string s\n",
      "There are 22 e in string s\n",
      "There are 22 e in string s\n",
      "There are 41   in string s\n",
      "There are 8 p in string s\n",
      "There are 17 r in string s\n",
      "There are 14 i in string s\n",
      "There are 10 n in string s\n",
      "There are 19 t in string s\n",
      "There are 41   in string s\n",
      "There are 12 m in string s\n",
      "There are 14 i in string s\n",
      "There are 3 c in string s\n",
      "There are 2 k in string s\n",
      "There are 22 e in string s\n",
      "There are 2 y in string s\n",
      "There are 41   in string s\n",
      "There are 14 i in string s\n",
      "There are 10 n in string s\n",
      "There are 9 s in string s\n",
      "There are 19 t in string s\n",
      "There are 22 e in string s\n",
      "There are 7 a in string s\n",
      "There are 3 d in string s\n",
      "There are 41   in string s\n",
      "There are 13 o in string s\n",
      "There are 10 f in string s\n",
      "There are 41   in string s\n",
      "There are 19 t in string s\n",
      "There are 9 h in string s\n",
      "There are 22 e in string s\n",
      "There are 41   in string s\n",
      "There are 10 n in string s\n",
      "There are 9 u in string s\n",
      "There are 12 m in string s\n",
      "There are 5 b in string s\n",
      "There are 22 e in string s\n",
      "There are 17 r in string s\n",
      "There are 41   in string s\n",
      "There are 7 a in string s\n",
      "There are 10 n in string s\n",
      "There are 3 d in string s\n",
      "There are 41   in string s\n",
      "There are 10 f in string s\n",
      "There are 13 o in string s\n",
      "There are 17 r in string s\n",
      "There are 41   in string s\n",
      "There are 19 t in string s\n",
      "There are 9 h in string s\n",
      "There are 22 e in string s\n",
      "There are 41   in string s\n",
      "There are 12 m in string s\n",
      "There are 9 u in string s\n",
      "There are 6 l in string s\n",
      "There are 19 t in string s\n",
      "There are 14 i in string s\n",
      "There are 8 p in string s\n",
      "There are 6 l in string s\n",
      "There are 22 e in string s\n",
      "There are 9 s in string s\n",
      "There are 41   in string s\n",
      "There are 13 o in string s\n",
      "There are 10 f in string s\n",
      "There are 41   in string s\n",
      "There are 10 f in string s\n",
      "There are 14 i in string s\n",
      "There are 2 v in string s\n",
      "There are 22 e in string s\n",
      "There are 41   in string s\n",
      "There are 8 p in string s\n",
      "There are 17 r in string s\n",
      "There are 14 i in string s\n",
      "There are 10 n in string s\n",
      "There are 19 t in string s\n",
      "There are 41   in string s\n",
      "There are 12 m in string s\n",
      "There are 13 o in string s\n",
      "There are 9 u in string s\n",
      "There are 9 s in string s\n",
      "There are 22 e in string s\n",
      "There are 2 . in string s\n",
      "There are 41   in string s\n",
      "There are 10 f in string s\n",
      "There are 13 o in string s\n",
      "There are 17 r in string s\n",
      "There are 41   in string s\n",
      "There are 10 n in string s\n",
      "There are 9 u in string s\n",
      "There are 12 m in string s\n",
      "There are 5 b in string s\n",
      "There are 22 e in string s\n",
      "There are 17 r in string s\n",
      "There are 9 s in string s\n",
      "There are 41   in string s\n",
      "There are 2 w in string s\n",
      "There are 9 h in string s\n",
      "There are 14 i in string s\n",
      "There are 3 c in string s\n",
      "There are 9 h in string s\n",
      "There are 41   in string s\n",
      "There are 7 a in string s\n",
      "There are 17 r in string s\n",
      "There are 22 e in string s\n",
      "There are 41   in string s\n",
      "There are 12 m in string s\n",
      "There are 9 u in string s\n",
      "There are 6 l in string s\n",
      "There are 19 t in string s\n",
      "There are 14 i in string s\n",
      "There are 8 p in string s\n",
      "There are 6 l in string s\n",
      "There are 22 e in string s\n",
      "There are 9 s in string s\n",
      "There are 41   in string s\n",
      "There are 13 o in string s\n",
      "There are 10 f in string s\n",
      "There are 41   in string s\n",
      "There are 5 b in string s\n",
      "There are 13 o in string s\n",
      "There are 19 t in string s\n",
      "There are 9 h in string s\n",
      "There are 41   in string s\n",
      "There are 19 t in string s\n",
      "There are 9 h in string s\n",
      "There are 17 r in string s\n",
      "There are 22 e in string s\n",
      "There are 22 e in string s\n",
      "There are 41   in string s\n",
      "There are 7 a in string s\n",
      "There are 10 n in string s\n",
      "There are 3 d in string s\n",
      "There are 41   in string s\n",
      "There are 10 f in string s\n",
      "There are 14 i in string s\n",
      "There are 2 v in string s\n",
      "There are 22 e in string s\n",
      "There are 41   in string s\n",
      "There are 8 p in string s\n",
      "There are 17 r in string s\n",
      "There are 14 i in string s\n",
      "There are 10 n in string s\n",
      "There are 19 t in string s\n",
      "There are 41   in string s\n",
      "There are 12 m in string s\n",
      "There are 14 i in string s\n",
      "There are 3 c in string s\n",
      "There are 2 k in string s\n",
      "There are 22 e in string s\n",
      "There are 2 y in string s\n",
      "There are 12 m in string s\n",
      "There are 13 o in string s\n",
      "There are 9 u in string s\n",
      "There are 9 s in string s\n",
      "There are 22 e in string s\n"
     ]
    }
   ],
   "source": [
    "s=\"Write a program that prints the numbers from 1 to 100. \\\n",
    "But for multiples of three print Mickey instead of the number and for the multiples of five print Mouse. \\\n",
    "For numbers which are multiples of both three and five print MickeyMouse\"\n",
    "\n",
    "new_s = s.lower()\n",
    "\n",
    "for x in new_s:\n",
    "   count = new_s.count(x)\n",
    "   print(\"There are \" + str(count) + \" \"+ x + \" in string s\" )\n",
    "    "
   ]
  },
  {
   "cell_type": "markdown",
   "metadata": {},
   "source": [
    "5\\. Isolating the unique\n",
    "\n",
    "Write a function that determines and count the unique numbers in the list *l*"
   ]
  },
  {
   "cell_type": "code",
   "execution_count": 163,
   "metadata": {},
   "outputs": [
    {
     "name": "stdout",
     "output_type": "stream",
     "text": [
      "[1, 3, 3, 5, 8, 9, 10, 16, 18, 19, 20, 20, 20, 24, 30, 31, 31, 33, 34, 34, 36, 36, 36, 37, 39, 41, 42, 42, 45, 45, 45, 47, 50, 50, 51, 51, 51, 53, 54, 55, 56, 56, 57, 58, 63, 63, 64, 66, 66, 70, 70, 70, 72, 74, 75, 79, 81, 82, 84, 84, 84, 84, 85, 85, 85, 86, 87, 88, 89, 89, 90, 91, 91, 91, 92, 94, 95, 96, 98, 99]\n",
      "([1, 3, 5, 8, 9, 10, 16, 18, 19, 20, 24, 30, 31, 33, 34, 36, 37, 39, 41, 42, 45, 47, 50, 51, 53, 54, 55, 56, 57, 58, 63, 64, 66, 70, 72, 74, 75, 79, 81, 82, 84, 85, 86, 87, 88, 89, 90, 91, 92, 94, 95, 96, 98, 99], 54)\n"
     ]
    }
   ],
   "source": [
    "l = [36, 45, 58, 3, 74, 96, 64, 45, 31, 10, 24, 19, 33, 86, 99, 18, 63, 70, 85,\n",
    " 85, 63, 47, 56, 42, 70, 84, 88, 55, 20, 54, 8, 56, 51, 79, 81, 57, 37, 91,\n",
    " 1, 84, 84, 36, 66, 9, 89, 50, 42, 91, 50, 95, 90, 98, 39, 16, 82, 31, 92, 41,\n",
    " 45, 30, 66, 70, 34, 85, 94, 5, 3, 36, 72, 91, 84, 34, 87, 75, 53, 51, 20, 89, 51, 20]\n",
    "\n",
    "l.sort()\n",
    "def count_numbers(x):\n",
    "    number = 0\n",
    "    unique_num = []\n",
    "    for i, element in enumerate(l):\n",
    "       if element != number: \n",
    "          number = element \n",
    "          unique_num.append(number) \n",
    "    return (unique_num,len(unique_num))\n",
    "print(l)\n",
    "print(count_numbers(l))     \n"
   ]
  },
  {
   "cell_type": "markdown",
   "metadata": {},
   "source": [
    "6\\. Combination of functions\n",
    "\n",
    "Write two functions - one that returns the square of a number, and one that returns the cube. Now write a third function that returns the number raised to the 6th power using the two previous functions."
   ]
  },
  {
   "cell_type": "code",
   "execution_count": 80,
   "metadata": {},
   "outputs": [
    {
     "name": "stdout",
     "output_type": "stream",
     "text": [
      "64\n"
     ]
    }
   ],
   "source": [
    "def square(x):\n",
    " return x**2\n",
    "\n",
    "def cube(x):\n",
    "  return x**3\n",
    "\n",
    "def sixth(x):    \n",
    "  a = cube(x)  \n",
    "  return square(a)  \n",
    "n = 2\n",
    "print(sixth(n))"
   ]
  },
  {
   "cell_type": "markdown",
   "metadata": {},
   "source": [
    "7\\. Cubes\n",
    "\n",
    "Create a list of the cubes of x for x in [0, 10] using:\n",
    "\n",
    "a) a for loop\n",
    "\n",
    "b) a list comprehension"
   ]
  },
  {
   "cell_type": "code",
   "execution_count": 3,
   "metadata": {},
   "outputs": [
    {
     "name": "stdout",
     "output_type": "stream",
     "text": [
      "[0, 1, 8, 27, 64, 125, 216, 343, 512, 729, 1000]\n",
      "[0, 1, 8, 27, 64, 125, 216, 343, 512, 729, 1000]\n"
     ]
    }
   ],
   "source": [
    "# a) \n",
    "cubes=[]\n",
    "for i in range(0,11):\n",
    "  cubes.append(i**3)\n",
    "    \n",
    "print(cubes)\n",
    "\n",
    "# b)\n",
    "cubes = [x**3 for x in range(0,11)]\n",
    "print(cubes)"
   ]
  },
  {
   "cell_type": "markdown",
   "metadata": {},
   "source": [
    "8\\. Nested list comprehension\n",
    "\n",
    "A Pythagorean triple is an integer solution to the Pythagorean theorem $a^2+b^2=c^2$. The first Pythagorean triple is (3,4,5). Find and put in a tuple all unique Pythagorean triples for the positive integers a, b and c less than 100."
   ]
  },
  {
   "cell_type": "code",
   "execution_count": 5,
   "metadata": {},
   "outputs": [
    {
     "name": "stdout",
     "output_type": "stream",
     "text": [
      "('3; 4; 5', '4; 3; 5', '5; 12; 13', '6; 8; 10', '7; 24; 25', '8; 6; 10', '8; 15; 17', '9; 12; 15', '9; 40; 41', '10; 24; 26', '11; 60; 61', '12; 5; 13', '12; 9; 15', '12; 16; 20', '12; 35; 37', '13; 84; 85', '14; 48; 50', '15; 8; 17', '15; 20; 25', '15; 36; 39', '16; 12; 20', '16; 30; 34', '16; 63; 65', '18; 24; 30', '18; 80; 82', '20; 15; 25', '20; 21; 29', '20; 48; 52', '21; 20; 29', '21; 28; 35', '21; 72; 75', '24; 7; 25', '24; 10; 26', '24; 18; 30', '24; 32; 40', '24; 45; 51', '24; 70; 74', '25; 60; 65', '27; 36; 45', '28; 21; 35', '28; 45; 53', '30; 16; 34', '30; 40; 50', '30; 72; 78', '32; 24; 40', '32; 60; 68', '33; 44; 55', '33; 56; 65', '35; 12; 37', '35; 84; 91', '36; 15; 39', '36; 27; 45', '36; 48; 60', '36; 77; 85', '39; 52; 65', '39; 80; 89', '40; 9; 41', '40; 30; 50', '40; 42; 58', '40; 75; 85', '42; 40; 58', '42; 56; 70', '44; 33; 55', '45; 24; 51', '45; 28; 53', '45; 60; 75', '48; 14; 50', '48; 20; 52', '48; 36; 60', '48; 55; 73', '48; 64; 80', '51; 68; 85', '52; 39; 65', '54; 72; 90', '55; 48; 73', '56; 33; 65', '56; 42; 70', '57; 76; 95', '60; 11; 61', '60; 25; 65', '60; 32; 68', '60; 45; 75', '60; 63; 87', '63; 16; 65', '63; 60; 87', '64; 48; 80', '65; 72; 97', '68; 51; 85', '70; 24; 74', '72; 21; 75', '72; 30; 78', '72; 54; 90', '72; 65; 97', '75; 40; 85', '76; 57; 95', '77; 36; 85', '80; 18; 82', '80; 39; 89', '84; 13; 85', '84; 35; 91')\n"
     ]
    }
   ],
   "source": [
    "triples = []\n",
    "for a in range (1,100):\n",
    "     for b in range (1,100):\n",
    "         for c in range (1,100):\n",
    "             if a**2+b**2 == c**2:\n",
    "                triples.append(str(a)+\"; \"+ str(b)+\"; \"+str(c)) \n",
    "print(tuple(triples))\n"
   ]
  },
  {
   "cell_type": "markdown",
   "metadata": {},
   "source": [
    "9\\. Normalization\n",
    "\n",
    "Write a function that takes a tuple of numbers and returns it with the entries normalized to one"
   ]
  },
  {
   "cell_type": "code",
   "execution_count": 100,
   "metadata": {},
   "outputs": [
    {
     "name": "stdout",
     "output_type": "stream",
     "text": [
      "(0.5, 0.5, 0.5, 0.5)\n"
     ]
    }
   ],
   "source": [
    "\n",
    "def normalize(x):\n",
    "    norm = 0.0\n",
    "    for i, number in enumerate(list(x)):\n",
    "       norm += number**2\n",
    "    norm_x = [number/(norm)**0.5 for number in x]\n",
    "    return tuple(norm_x)\n",
    "a = (2,2,2,2)\n",
    "print(normalize(a))"
   ]
  }
 ],
 "metadata": {
  "kernelspec": {
   "display_name": "anaconda-ai-2024.04-py310",
   "language": "python",
   "name": "conda-env-anaconda-ai-2024.04-py310-py"
  },
  "language_info": {
   "codemirror_mode": {
    "name": "ipython",
    "version": 3
   },
   "file_extension": ".py",
   "mimetype": "text/x-python",
   "name": "python",
   "nbconvert_exporter": "python",
   "pygments_lexer": "ipython3",
   "version": "3.10.13"
  }
 },
 "nbformat": 4,
 "nbformat_minor": 4
}
